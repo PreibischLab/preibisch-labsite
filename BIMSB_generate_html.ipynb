{
 "cells": [
  {
   "cell_type": "code",
   "execution_count": 9,
   "metadata": {
    "collapsed": false
   },
   "outputs": [
    {
     "name": "stdout",
     "output_type": "stream",
     "text": [
      "['Seminar date? (example: Jan 1)']Mar 14\n",
      "['Seminar time? (example: 14:00)']14:00\n",
      "['Speaker link?']http://www.crbm.cnrs.fr/index.php/en/patrick-lemaire-uk\n",
      "['Speaker name?']Patrick Lemaire\n",
      "['Speaker institute?']Centre for Macromolecular Biochemistry Research Montpellier\n",
      "['Location? (example: Axon 2)']Axon 2\n",
      "['Invited by? (example: Stephan Preibisch)']Stephan Preibisch\n",
      "['Talk title?']Embryonic inductions may constrain the evolution of ascidian embryonic morphogenesis\n"
     ]
    }
   ],
   "source": [
    "f = open (\"generate_html_bimsb_seminar.txt\", \"w\") # enable write \n",
    "f.write('<div class=\"row\">\\n')\n",
    "\n",
    "s_date = input([\"Seminar date? (example: Jan 1)\"])\n",
    "s_time = input([\"Seminar time? (example: 14:00)\"])\n",
    "\n",
    "f.write(\"\".join(['<div class=\"col-md-1\"><p>', s_date, '<br/><small>', s_time, '</small></p></div>\\n']))\n",
    "f.write('<div class=\"col-md-5\">\\n')\n",
    "\n",
    "s_link = input([\"Speaker link?\"])\n",
    "s_name = input([\"Speaker name?\"])\n",
    "s_institute = input([\"Speaker institute?\"])\n",
    "s_location = input([\"Location? (example: Axon 2)\"])\n",
    "s_host = input([\"Invited by? (example: Stephan Preibisch)\"])\n",
    "\n",
    "f.write(\"\".join(['<p><a href=\"', s_link, '\" target=\"_blank\"><b>', s_name, '</b></a>, ', \n",
    "                 s_institute, '<br/><small>Location: ', s_location, ', Host: ', s_host, '</small></p>\\n']))\n",
    "f.write('</div>\\n')\n",
    "f.write('<div class=\"col-md-6\">\\n')\n",
    "\n",
    "s_title = input([\"Talk title?\"])\n",
    "f.write(\"\".join(['<p>', s_title, '</p>\\n']))\n",
    "f.write('</div>\\n')\n",
    "f.write('</div>\\n')\n",
    "f.write('<hr/><br/>\\n')\n",
    "\n",
    "f.close()"
   ]
  },
  {
   "cell_type": "code",
   "execution_count": 21,
   "metadata": {
    "collapsed": true
   },
   "outputs": [],
   "source": [
    "csv.reader?"
   ]
  },
  {
   "cell_type": "code",
   "execution_count": 28,
   "metadata": {
    "collapsed": false
   },
   "outputs": [],
   "source": [
    "csv.DictReader?"
   ]
  },
  {
   "cell_type": "code",
   "execution_count": 37,
   "metadata": {
    "collapsed": false
   },
   "outputs": [],
   "source": [
    "import csv\n",
    "\n",
    "f = open (\"generate_html_bimsb_seminar.txt\", \"w\") # enable write \n",
    "\n",
    "with open('BIMSB2016.csv','rt') as csvfile:\n",
    "#         s_reader = csv.reader(csvfile, delimiter='\\t')\n",
    "#         for row in s_reader:\n",
    "        for line in csvfile:\n",
    "            row = line.strip().split('\\t')\n",
    "\n",
    "            f.write('<div class=\"row\">\\n')\n",
    "            f.write(\"\".join(['<div class=\"col-md-1\"><p>', row[0], ' ', row[1], '<br/><small>14:00</small></p></div>\\n']))\n",
    "            f.write('<div class=\"col-md-5\">\\n')\n",
    "            #f.write(\"\".join(['<p><a href=\"\" target=\"_blank\"><b>', row[2], '</b></a>, ', \n",
    "            #                 row[3], '<br/><small>Location: ', row[5], ', Host: ', row[4], '</small></p>\\n']))\n",
    "            f.write(\"\".join(['<p><a href=\"\" target=\"_blank\"><b>', row[2], '</b></a>, ', \n",
    "                             row[3], '<br/><small>Host: ', row[4], '</small></p>\\n']))\n",
    "            f.write('</div>\\n')\n",
    "            f.write('<div class=\"col-md-6\">\\n')\n",
    "            f.write('<p></p>\\n')\n",
    "            f.write('</div>\\n')\n",
    "            f.write('</div>\\n')\n",
    "            f.write('<hr/><br/>\\n\\n')\n",
    "\n",
    "\n",
    "f.close()\n",
    "            \n",
    "            \n",
    "            \n",
    "            "
   ]
  },
  {
   "cell_type": "code",
   "execution_count": null,
   "metadata": {
    "collapsed": true
   },
   "outputs": [],
   "source": []
  }
 ],
 "metadata": {
  "kernelspec": {
   "display_name": "Python 3",
   "language": "python",
   "name": "python3"
  },
  "language_info": {
   "codemirror_mode": {
    "name": "ipython",
    "version": 3
   },
   "file_extension": ".py",
   "mimetype": "text/x-python",
   "name": "python",
   "nbconvert_exporter": "python",
   "pygments_lexer": "ipython3",
   "version": "3.6.0"
  }
 },
 "nbformat": 4,
 "nbformat_minor": 2
}
